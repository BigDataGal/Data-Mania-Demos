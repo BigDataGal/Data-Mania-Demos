{
 "cells": [
  {
   "cell_type": "markdown",
   "metadata": {},
   "source": [
    "\n",
    "# Generating Reports and Dashboards from Plot.ly\n",
    "## Setting up to use Plotly within Jupyter"
   ]
  },
  {
   "cell_type": "code",
   "execution_count": 3,
   "metadata": {},
   "outputs": [
    {
     "name": "stdout",
     "output_type": "stream",
     "text": [
      "Requirement already satisfied: html5lib==1.0b8 in c:\\users\\piers\\anaconda2\\lib\\site-packages\n",
      "Requirement already satisfied: six in c:\\users\\piers\\anaconda2\\lib\\site-packages (from html5lib==1.0b8)\n",
      "Collecting xhtml2pdf\n",
      "Collecting reportlab>=2.2 (from xhtml2pdf)\n",
      "  Downloading reportlab-3.4.0-cp27-cp27m-win_amd64.whl (2.1MB)\n",
      "Collecting pyPdf2 (from xhtml2pdf)\n",
      "Requirement already satisfied: Pillow in c:\\users\\piers\\anaconda2\\lib\\site-packages (from xhtml2pdf)\n",
      "Requirement already satisfied: html5lib in c:\\users\\piers\\anaconda2\\lib\\site-packages (from xhtml2pdf)\n",
      "Requirement already satisfied: pip>=1.4.1 in c:\\users\\piers\\anaconda2\\lib\\site-packages (from reportlab>=2.2->xhtml2pdf)\n",
      "Requirement already satisfied: setuptools>=2.2 in c:\\users\\piers\\anaconda2\\lib\\site-packages\\setuptools-27.2.0-py2.7.egg (from reportlab>=2.2->xhtml2pdf)\n",
      "Collecting olefile (from Pillow->xhtml2pdf)\n",
      "  Downloading olefile-0.44.zip (74kB)\n",
      "Requirement already satisfied: six in c:\\users\\piers\\anaconda2\\lib\\site-packages (from html5lib->xhtml2pdf)\n",
      "Building wheels for collected packages: olefile\n",
      "  Running setup.py bdist_wheel for olefile: started\n",
      "  Running setup.py bdist_wheel for olefile: finished with status 'done'\n",
      "  Stored in directory: C:\\Users\\piers\\AppData\\Local\\pip\\Cache\\wheels\\20\\58\\49\\cc7bd00345397059149a10b0259ef38b867935ea2ecff99a9b\n",
      "Successfully built olefile\n",
      "Installing collected packages: reportlab, pyPdf2, xhtml2pdf, olefile\n",
      "Successfully installed olefile-0.44 pyPdf2-1.26.0 reportlab-3.4.0 xhtml2pdf-0.0.6\n"
     ]
    }
   ],
   "source": [
    "! pip install html5lib==1.0b8\n",
    "! pip install xhtml2pdf"
   ]
  },
  {
   "cell_type": "code",
   "execution_count": 40,
   "metadata": {
    "collapsed": true
   },
   "outputs": [],
   "source": [
    "import numpy as np\n",
    "import pandas as pd\n",
    "import plotly.plotly as py\n",
    "import xhtml2pdf\n",
    "from IPython.display import display, HTML\n",
    "\n",
    "import plotly.tools as tls\n",
    "import plotly.graph_objs as go\n",
    "from xhtml2pdf import pisa    "
   ]
  },
  {
   "cell_type": "markdown",
   "metadata": {},
   "source": [
    "Sign-up for Plotly to get your username and API key"
   ]
  },
  {
   "cell_type": "code",
   "execution_count": 41,
   "metadata": {
    "collapsed": true
   },
   "outputs": [],
   "source": [
    "#tls.set_credentials_file(username='username', api_key='api-key')\n",
    "tls.set_credentials_file(username='', api_key='')"
   ]
  },
  {
   "cell_type": "markdown",
   "metadata": {},
   "source": [
    "## Generating reports\n",
    "### Step 1 - Create an HTML template"
   ]
  },
  {
   "cell_type": "markdown",
   "metadata": {},
   "source": [
    "Pull the URLs of your charts from your Plot.ly account"
   ]
  },
  {
   "cell_type": "code",
   "execution_count": 42,
   "metadata": {
    "collapsed": true
   },
   "outputs": [],
   "source": [
    "graphs = [\n",
    "    'https://plot.ly/~drworm8/10/google-analytics/',\n",
    "    'https://plot.ly/~drworm8/11/total-revenue-vs-monthly-visits/',\n",
    "    'https://plot.ly/~drworm8/12/new-users-vs-total-revenue/'\n",
    "]"
   ]
  },
  {
   "cell_type": "code",
   "execution_count": 43,
   "metadata": {
    "collapsed": true
   },
   "outputs": [],
   "source": [
    "def report_block_template(report_type, graph_url, caption=''):\n",
    "    if report_type == 'interactive':\n",
    "        graph_block = '<iframe style=\"border: none;\" src=\"{graph_url}.embed\" width=\"100%\" height=\"600px\"></iframe>'\n",
    "    elif report_type == 'static':\n",
    "        graph_block = (''\n",
    "            '<a href=\"{graph_url}\" target=\"_blank\">' \n",
    "                '<img style=\"height: 400px;\" src=\"{graph_url}.png\">'\n",
    "            '</a>')\n",
    "\n",
    "    report_block = ('' +\n",
    "        graph_block + \n",
    "        '{caption}' + \n",
    "        '<br>'      + \n",
    "        '<a href=\"{graph_url}\" style=\"color: rgb(190,190,190); text-decoration: none; font-weight: 200;\" target=\"_blank\">'+ \n",
    "            'Click to comment and see the interactive graph' + \n",
    "        '</a>' + \n",
    "        '<br>' + \n",
    "        '<hr>')                        \n",
    "\n",
    "    return report_block.format(graph_url=graph_url, caption=caption)\n",
    "\n",
    "interactive_report = ''\n",
    "static_report = ''\n",
    "\n",
    "for graph_url in graphs:\n",
    "    _static_block = report_block_template('static', graph_url, caption='')\n",
    "    _interactive_block = report_block_template('interactive', graph_url, caption='')\n",
    "\n",
    "    static_report += _static_block\n",
    "    interactive_report += _interactive_block"
   ]
  },
  {
   "cell_type": "markdown",
   "metadata": {
    "scrolled": true
   },
   "source": [
    "### Step 2 - Displaying the report"
   ]
  },
  {
   "cell_type": "code",
   "execution_count": 44,
   "metadata": {},
   "outputs": [
    {
     "data": {
      "text/html": [
       "<iframe style=\"border: none;\" src=\"https://plot.ly/~drworm8/10/google-analytics/.embed\" width=\"100%\" height=\"600px\"></iframe><br><a href=\"https://plot.ly/~drworm8/10/google-analytics/\" style=\"color: rgb(190,190,190); text-decoration: none; font-weight: 200;\" target=\"_blank\">Click to comment and see the interactive graph</a><br><hr><iframe style=\"border: none;\" src=\"https://plot.ly/~drworm8/11/total-revenue-vs-monthly-visits/.embed\" width=\"100%\" height=\"600px\"></iframe><br><a href=\"https://plot.ly/~drworm8/11/total-revenue-vs-monthly-visits/\" style=\"color: rgb(190,190,190); text-decoration: none; font-weight: 200;\" target=\"_blank\">Click to comment and see the interactive graph</a><br><hr><iframe style=\"border: none;\" src=\"https://plot.ly/~drworm8/12/new-users-vs-total-revenue/.embed\" width=\"100%\" height=\"600px\"></iframe><br><a href=\"https://plot.ly/~drworm8/12/new-users-vs-total-revenue/\" style=\"color: rgb(190,190,190); text-decoration: none; font-weight: 200;\" target=\"_blank\">Click to comment and see the interactive graph</a><br><hr>"
      ],
      "text/plain": [
       "<IPython.core.display.HTML object>"
      ]
     },
     "metadata": {},
     "output_type": "display_data"
    }
   ],
   "source": [
    "display(HTML(interactive_report))"
   ]
  },
  {
   "cell_type": "markdown",
   "metadata": {},
   "source": [
    "### Step 3 - Creating a static report"
   ]
  },
  {
   "cell_type": "code",
   "execution_count": 45,
   "metadata": {},
   "outputs": [
    {
     "data": {
      "text/html": [
       "<a href=\"https://plot.ly/~drworm8/10/google-analytics/\" target=\"_blank\"><img style=\"height: 400px;\" src=\"https://plot.ly/~drworm8/10/google-analytics/.png\"></a><br><a href=\"https://plot.ly/~drworm8/10/google-analytics/\" style=\"color: rgb(190,190,190); text-decoration: none; font-weight: 200;\" target=\"_blank\">Click to comment and see the interactive graph</a><br><hr><a href=\"https://plot.ly/~drworm8/11/total-revenue-vs-monthly-visits/\" target=\"_blank\"><img style=\"height: 400px;\" src=\"https://plot.ly/~drworm8/11/total-revenue-vs-monthly-visits/.png\"></a><br><a href=\"https://plot.ly/~drworm8/11/total-revenue-vs-monthly-visits/\" style=\"color: rgb(190,190,190); text-decoration: none; font-weight: 200;\" target=\"_blank\">Click to comment and see the interactive graph</a><br><hr><a href=\"https://plot.ly/~drworm8/12/new-users-vs-total-revenue/\" target=\"_blank\"><img style=\"height: 400px;\" src=\"https://plot.ly/~drworm8/12/new-users-vs-total-revenue/.png\"></a><br><a href=\"https://plot.ly/~drworm8/12/new-users-vs-total-revenue/\" style=\"color: rgb(190,190,190); text-decoration: none; font-weight: 200;\" target=\"_blank\">Click to comment and see the interactive graph</a><br><hr>"
      ],
      "text/plain": [
       "<IPython.core.display.HTML object>"
      ]
     },
     "metadata": {},
     "output_type": "display_data"
    }
   ],
   "source": [
    "display(HTML(static_report))"
   ]
  },
  {
   "cell_type": "markdown",
   "metadata": {},
   "source": [
    "### Step 4 - Converting the static report to a pdf"
   ]
  },
  {
   "cell_type": "code",
   "execution_count": 46,
   "metadata": {
    "collapsed": true
   },
   "outputs": [],
   "source": [
    "def convert_html_to_pdf(source_html, output_filename):\n",
    "    \n",
    "    result_file = open(output_filename, \"w+b\")\n",
    "\n",
    "    pisa_status = pisa.CreatePDF(\n",
    "            source_html,                \n",
    "            dest=result_file)           \n",
    "\n",
    "    result_file.close()                \n",
    "\n",
    "    return pisa_status.err"
   ]
  },
  {
   "cell_type": "code",
   "execution_count": 47,
   "metadata": {},
   "outputs": [
    {
     "data": {
      "text/plain": [
       "0"
      ]
     },
     "execution_count": 47,
     "metadata": {},
     "output_type": "execute_result"
    }
   ],
   "source": [
    "convert_html_to_pdf(static_report, 'Data-Analytic-Product-Demo.pdf')"
   ]
  },
  {
   "cell_type": "code",
   "execution_count": null,
   "metadata": {
    "collapsed": true
   },
   "outputs": [],
   "source": []
  }
 ],
 "metadata": {
  "kernelspec": {
   "display_name": "Python 3",
   "language": "python",
   "name": "python3"
  },
  "language_info": {
   "codemirror_mode": {
    "name": "ipython",
    "version": 3
   },
   "file_extension": ".py",
   "mimetype": "text/x-python",
   "name": "python",
   "nbconvert_exporter": "python",
   "pygments_lexer": "ipython3",
   "version": "3.5.0"
  }
 },
 "nbformat": 4,
 "nbformat_minor": 1
}
